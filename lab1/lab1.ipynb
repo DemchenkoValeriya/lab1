{
 "cells": [
  {
   "cell_type": "markdown",
   "id": "6f1cb643-58f0-44f7-b3c9-e1f26dd45534",
   "metadata": {},
   "source": [
    "Python HOME"
   ]
  },
  {
   "cell_type": "code",
   "execution_count": 2,
   "id": "306c3228-6c60-4644-a5a7-04ea9a798391",
   "metadata": {},
   "outputs": [
    {
     "name": "stdout",
     "output_type": "stream",
     "text": [
      "Hello World\n"
     ]
    }
   ],
   "source": [
    "print('Hello World')\n"
   ]
  },
  {
   "cell_type": "markdown",
   "id": "27cd7e46-fbe8-47c7-a578-87892a4ae36f",
   "metadata": {},
   "source": [
    "Python Get Started"
   ]
  },
  {
   "cell_type": "code",
   "execution_count": 5,
   "id": "28a396aa-aa53-4d4e-8548-a0dc772e4906",
   "metadata": {},
   "outputs": [
    {
     "name": "stdout",
     "output_type": "stream",
     "text": [
      "3.12.7 | packaged by Anaconda, Inc. | (main, Oct  4 2024, 13:17:27) [MSC v.1929 64 bit (AMD64)]\n"
     ]
    }
   ],
   "source": [
    "import sys\n",
    "\n",
    "print(sys.version)"
   ]
  },
  {
   "cell_type": "markdown",
   "id": "7b65e053-472f-453f-b14e-acb91e23aaae",
   "metadata": {},
   "source": [
    "Python Syntax"
   ]
  },
  {
   "cell_type": "code",
   "execution_count": 8,
   "id": "8dd82214-362d-4be9-96a5-9a50ed2e04e6",
   "metadata": {},
   "outputs": [
    {
     "name": "stdout",
     "output_type": "stream",
     "text": [
      "Five is greater than two!\n"
     ]
    }
   ],
   "source": [
    "if 5 > 2:\n",
    "  print(\"Five is greater than two!\")"
   ]
  },
  {
   "cell_type": "code",
   "execution_count": 10,
   "id": "95c1f382-b3f9-48bc-b85f-5bb6d7be04b2",
   "metadata": {},
   "outputs": [
    {
     "name": "stdout",
     "output_type": "stream",
     "text": [
      "Five is greater than two\n",
      "Five is greater than two\n"
     ]
    }
   ],
   "source": [
    "if 5 > 2:\n",
    " print(\"Five is greater than two\") \n",
    "if 5 > 2:\n",
    "        print(\"Five is greater than two\")\n"
   ]
  },
  {
   "cell_type": "code",
   "execution_count": 43,
   "id": "7cbb7e53-82b3-4e56-b3b2-bc2a8f3f8590",
   "metadata": {},
   "outputs": [],
   "source": [
    "x = 5\n",
    "y = \"Hello World!\""
   ]
  },
  {
   "cell_type": "code",
   "execution_count": 15,
   "id": "cd163ec2-03dc-4e99-8666-ed5331773c8e",
   "metadata": {},
   "outputs": [
    {
     "name": "stdout",
     "output_type": "stream",
     "text": [
      "Hello World!\n"
     ]
    }
   ],
   "source": [
    "#a comment\n",
    "print(\"Hello World!\")"
   ]
  },
  {
   "cell_type": "markdown",
   "id": "608a4daa-ebd6-4fcb-98e4-7a167aefa785",
   "metadata": {},
   "source": [
    "Python Comments"
   ]
  },
  {
   "cell_type": "code",
   "execution_count": 18,
   "id": "ee633a09-10a5-474b-9512-9254dfef65de",
   "metadata": {},
   "outputs": [
    {
     "name": "stdout",
     "output_type": "stream",
     "text": [
      "Hello World!\n"
     ]
    }
   ],
   "source": [
    "#a comment\n",
    "print('Hello World!')"
   ]
  },
  {
   "cell_type": "code",
   "execution_count": 20,
   "id": "4b85fe3e-ec09-4f4f-aae5-08e263fc7af8",
   "metadata": {},
   "outputs": [
    {
     "name": "stdout",
     "output_type": "stream",
     "text": [
      "Hello World!\n"
     ]
    }
   ],
   "source": [
    "print('Hello World!') #this is a comment"
   ]
  },
  {
   "cell_type": "code",
   "execution_count": 24,
   "id": "0771b770-5765-4a95-8a63-c91895c8c094",
   "metadata": {},
   "outputs": [
    {
     "name": "stdout",
     "output_type": "stream",
     "text": [
      "Cheers, Mate!\n"
     ]
    }
   ],
   "source": [
    "#print('Hello world!')\n",
    "print ('Cheers, Mate!')"
   ]
  },
  {
   "cell_type": "code",
   "execution_count": 26,
   "id": "8186485b-ff31-4bd6-bcfb-452ece0032ed",
   "metadata": {},
   "outputs": [
    {
     "name": "stdout",
     "output_type": "stream",
     "text": [
      "Hello World!\n"
     ]
    }
   ],
   "source": [
    "#a comment\n",
    "#another comment\n",
    "#one more comment\n",
    "print('Hello World!')"
   ]
  },
  {
   "cell_type": "code",
   "execution_count": 28,
   "id": "5125bdf6-2d9a-49e5-91ba-cbefca2bf48b",
   "metadata": {},
   "outputs": [
    {
     "name": "stdout",
     "output_type": "stream",
     "text": [
      "Hello World!\n"
     ]
    }
   ],
   "source": [
    "\"\"\"\n",
    "long comment\n",
    "another comment\n",
    "a continuation of a comment\n",
    "\"\"\"\n",
    "print('Hello World!')"
   ]
  },
  {
   "cell_type": "markdown",
   "id": "e5e1faea-a8e8-41f5-984f-61000d2def64",
   "metadata": {},
   "source": [
    "Python Variables"
   ]
  },
  {
   "cell_type": "code",
   "execution_count": 31,
   "id": "40cef58e-aca1-4e97-a15e-b4972e197fd7",
   "metadata": {},
   "outputs": [
    {
     "name": "stdout",
     "output_type": "stream",
     "text": [
      "5\n",
      "John\n"
     ]
    }
   ],
   "source": [
    "x = 5\n",
    "y = 'John'\n",
    "print(x)\n",
    "print(y)"
   ]
  },
  {
   "cell_type": "code",
   "execution_count": 33,
   "id": "77917cac-2080-4922-834d-43f2191fc962",
   "metadata": {},
   "outputs": [
    {
     "name": "stdout",
     "output_type": "stream",
     "text": [
      "Sally\n"
     ]
    }
   ],
   "source": [
    "x = 5 #x is of type int\n",
    "x = 'Sally' #x is now of type string\n",
    "print(x)"
   ]
  },
  {
   "cell_type": "code",
   "execution_count": 41,
   "id": "b11e96e3-148e-4bad-aad0-615668118757",
   "metadata": {},
   "outputs": [],
   "source": [
    "x = str(3) #x will be '3'\n",
    "y = int(3) #y will be 3\n",
    "z = float(3) #z will be 3.0"
   ]
  },
  {
   "cell_type": "code",
   "execution_count": 49,
   "id": "04d2bc9d-1b44-40d5-8ee9-56da1947c26a",
   "metadata": {},
   "outputs": [
    {
     "name": "stdout",
     "output_type": "stream",
     "text": [
      "<class 'int'>\n",
      "<class 'str'>\n"
     ]
    }
   ],
   "source": [
    "x = 5\n",
    "y = 'John'\n",
    "print(type(x))\n",
    "print(type(y))"
   ]
  },
  {
   "cell_type": "code",
   "execution_count": 51,
   "id": "3d28dac6-ea32-4a3f-a165-648deac83ee3",
   "metadata": {},
   "outputs": [],
   "source": [
    "x = \"John\"\n",
    "# is the same as\n",
    "x = 'John'"
   ]
  },
  {
   "cell_type": "code",
   "execution_count": 53,
   "id": "3e477e05-35f3-46b9-be62-585a9dd1b0e8",
   "metadata": {},
   "outputs": [],
   "source": [
    "a = 4\n",
    "A = 'Sally'\n",
    "#A will not overwrite a"
   ]
  },
  {
   "cell_type": "markdown",
   "id": "6240e3a8-d8e3-480a-91f7-631ac362eb51",
   "metadata": {},
   "source": [
    "Variable Names"
   ]
  },
  {
   "cell_type": "code",
   "execution_count": 56,
   "id": "fe465dc8-44f3-46d3-ad2d-98aa61f593f3",
   "metadata": {},
   "outputs": [],
   "source": [
    "myvar = \"John\"\n",
    "my_var = \"John\"\n",
    "_my_var = \"John\"\n",
    "myVar = \"John\"\n",
    "MYVAR = \"John\"\n",
    "myvar2 = \"John\""
   ]
  },
  {
   "cell_type": "code",
   "execution_count": 66,
   "id": "5d19e9bd-368b-43e8-afb3-15e1b3b9e6ae",
   "metadata": {},
   "outputs": [
    {
     "data": {
      "text/plain": [
       "'\\nno-no variable names\\n\\n2myvar = \"John\"\\nmy-var = \"John\"\\nmy var = \"John\"\\n'"
      ]
     },
     "execution_count": 66,
     "metadata": {},
     "output_type": "execute_result"
    }
   ],
   "source": [
    "\"\"\"\n",
    "no-no variable names\n",
    "\n",
    "2myvar = \"John\"\n",
    "my-var = \"John\"\n",
    "my var = \"John\"\n",
    "\"\"\""
   ]
  },
  {
   "cell_type": "markdown",
   "id": "9a1fc061-9dbf-4a75-be9f-c7cc0c1630eb",
   "metadata": {},
   "source": [
    "Assign Mutliple Values"
   ]
  },
  {
   "cell_type": "code",
   "execution_count": 69,
   "id": "2b4c5e6c-e7ea-4dbb-bca6-321e81008271",
   "metadata": {},
   "outputs": [
    {
     "name": "stdout",
     "output_type": "stream",
     "text": [
      "orange\n",
      "banana\n",
      "cherry\n"
     ]
    }
   ],
   "source": [
    "x, y, z = \"orange\", \"banana\", \"cherry\"\n",
    "print(x)\n",
    "print(y)\n",
    "print(z)"
   ]
  },
  {
   "cell_type": "code",
   "execution_count": 71,
   "id": "328628ef-da38-469c-822e-38ec98a3e87b",
   "metadata": {},
   "outputs": [
    {
     "name": "stdout",
     "output_type": "stream",
     "text": [
      "orange\n",
      "orange\n",
      "orange\n"
     ]
    }
   ],
   "source": [
    "x = y = z = \"orange\"\n",
    "print(x)\n",
    "print(y)\n",
    "print(z)"
   ]
  },
  {
   "cell_type": "code",
   "execution_count": 73,
   "id": "a98a56a4-1188-448a-ac7f-aaacad240fe4",
   "metadata": {},
   "outputs": [
    {
     "name": "stdout",
     "output_type": "stream",
     "text": [
      "apple\n",
      "banana\n",
      "cherry\n"
     ]
    }
   ],
   "source": [
    "fruits = [\"apple\", \"banana\", \"cherry\"]\n",
    "x, y, z = fruits\n",
    "print(x)\n",
    "print(y)\n",
    "print(z)"
   ]
  },
  {
   "cell_type": "markdown",
   "id": "f4baf039-213c-46db-87fc-0e78c89cd5ba",
   "metadata": {},
   "source": [
    "Output Variables"
   ]
  },
  {
   "cell_type": "code",
   "execution_count": 76,
   "id": "9e1a7417-b228-4461-bdad-a7a0efe776a7",
   "metadata": {},
   "outputs": [
    {
     "name": "stdout",
     "output_type": "stream",
     "text": [
      "Python is ok\n"
     ]
    }
   ],
   "source": [
    "x = \"Python is ok\"\n",
    "print(x)"
   ]
  },
  {
   "cell_type": "code",
   "execution_count": 78,
   "id": "7836d965-a4f1-4717-a4bb-3f21d298512e",
   "metadata": {},
   "outputs": [
    {
     "name": "stdout",
     "output_type": "stream",
     "text": [
      "Python is okay\n"
     ]
    }
   ],
   "source": [
    "x = \"Python\"\n",
    "y = \"is\"\n",
    "z = \"okay\"\n",
    "print(x, y, z)"
   ]
  },
  {
   "cell_type": "code",
   "execution_count": 80,
   "id": "047e4328-43a4-41eb-b1f8-4c91929556aa",
   "metadata": {},
   "outputs": [
    {
     "name": "stdout",
     "output_type": "stream",
     "text": [
      "Python is okay\n"
     ]
    }
   ],
   "source": [
    "x = \"Python \"\n",
    "y = \"is \"\n",
    "z = \"okay\"\n",
    "print(x + y + z)"
   ]
  },
  {
   "cell_type": "code",
   "execution_count": 82,
   "id": "79ca7f5d-b78b-46ee-81d7-fc41765a4f79",
   "metadata": {},
   "outputs": [
    {
     "name": "stdout",
     "output_type": "stream",
     "text": [
      "15\n"
     ]
    }
   ],
   "source": [
    "x = 5\n",
    "y = 10\n",
    "print(x + y)"
   ]
  },
  {
   "cell_type": "code",
   "execution_count": 96,
   "id": "7d6b4d41-eeb8-47ab-8b45-9f8351ee072a",
   "metadata": {},
   "outputs": [
    {
     "data": {
      "text/plain": [
       "'\\nwill result in an error:\\nx = 5\\ny = \"John\"\\nprint(x + y)\\n'"
      ]
     },
     "execution_count": 96,
     "metadata": {},
     "output_type": "execute_result"
    }
   ],
   "source": [
    "\"\"\"\n",
    "will result in an error:\n",
    "x = 5\n",
    "y = \"John\"\n",
    "print(x + y)\n",
    "\"\"\""
   ]
  },
  {
   "cell_type": "code",
   "execution_count": 98,
   "id": "99a8cdb8-5b26-44ea-b532-4abd34eb32a7",
   "metadata": {},
   "outputs": [
    {
     "name": "stdout",
     "output_type": "stream",
     "text": [
      "5 John\n"
     ]
    }
   ],
   "source": [
    "x = 5\n",
    "y = \"John\"\n",
    "print(x, y)"
   ]
  },
  {
   "cell_type": "markdown",
   "id": "9b0312e5-e7e0-4fa7-a46e-351a61fb001f",
   "metadata": {},
   "source": [
    "Global Variables"
   ]
  },
  {
   "cell_type": "code",
   "execution_count": 101,
   "id": "be8a7dfd-0309-414a-b01b-a966c8333c4a",
   "metadata": {},
   "outputs": [
    {
     "name": "stdout",
     "output_type": "stream",
     "text": [
      "Python is ookay\n"
     ]
    }
   ],
   "source": [
    "x = \"ookay\"\n",
    "\n",
    "def func():\n",
    "  print(\"Python is \" + x)\n",
    "\n",
    "func()"
   ]
  },
  {
   "cell_type": "code",
   "execution_count": 103,
   "id": "4d1d9295-ef64-475f-bae2-2f7f457fbdff",
   "metadata": {},
   "outputs": [
    {
     "name": "stdout",
     "output_type": "stream",
     "text": [
      "Python is alright\n",
      "Python is ok\n"
     ]
    }
   ],
   "source": [
    "x = \"ok\"\n",
    "\n",
    "def func():\n",
    "  x = \"alright\"\n",
    "  print(\"Python is \" + x)\n",
    "\n",
    "func()\n",
    "\n",
    "print(\"Python is \" + x)"
   ]
  },
  {
   "cell_type": "code",
   "execution_count": 105,
   "id": "190b673b-864b-4264-a6fa-90f502673a50",
   "metadata": {},
   "outputs": [
    {
     "name": "stdout",
     "output_type": "stream",
     "text": [
      "Python is alright\n"
     ]
    }
   ],
   "source": [
    "x = \"nice\"\n",
    "\n",
    "def func():\n",
    "  global x\n",
    "  x = \"alright\"\n",
    "\n",
    "func()\n",
    "\n",
    "print(\"Python is \" + x)"
   ]
  },
  {
   "cell_type": "markdown",
   "id": "9dbc17dc-1526-40c4-9418-c6bf42d024fd",
   "metadata": {},
   "source": [
    "Python Data Types"
   ]
  },
  {
   "cell_type": "code",
   "execution_count": 108,
   "id": "9459420d-e56b-4c41-8447-e7aac3ad059b",
   "metadata": {},
   "outputs": [
    {
     "name": "stdout",
     "output_type": "stream",
     "text": [
      "<class 'int'>\n"
     ]
    }
   ],
   "source": [
    "x = 5\n",
    "print(type(x))"
   ]
  },
  {
   "cell_type": "code",
   "execution_count": 118,
   "id": "94a652d1-7b38-4fca-abf7-a0e36bbfcf85",
   "metadata": {},
   "outputs": [],
   "source": [
    "x = \"Hello World\"\t#str\t\n",
    "y = 20\t#int\t\n",
    "z = 20.5\t#float\t\n",
    "a = 1j\t#complex\t\n",
    "b = [\"apple\", \"banana\", \"cherry\"]\t#list\t\n",
    "c = (\"apple\", \"banana\", \"cherry\")\t#tuple\t\n",
    "d = range(6)\t#range\t\n",
    "e = {\"name\" : \"John\", \"age\" : 36}\t#dict\t\n",
    "f = {\"apple\", \"banana\", \"cherry\"}\t#set\t\n",
    "g = frozenset({\"apple\", \"banana\", \"cherry\"})\t#frozenset\t\n",
    "h = True\t#bool\t\n",
    "i = b\"Hello\"\t#bytes\t\n",
    "j = bytearray(5)\t#bytearray\t\n",
    "k = memoryview(bytes(5))\t#memoryview\t\n",
    "l = None #NoneType"
   ]
  },
  {
   "cell_type": "markdown",
   "id": "6dced703-7c24-42f6-99bf-b47ed0075496",
   "metadata": {},
   "source": [
    "Python Numbers"
   ]
  },
  {
   "cell_type": "code",
   "execution_count": 121,
   "id": "88c1128e-0af7-42eb-8287-79c3e89bfb12",
   "metadata": {},
   "outputs": [],
   "source": [
    "x = 1    # int\n",
    "y = 3.7  # float\n",
    "z = 1j   # complex"
   ]
  },
  {
   "cell_type": "code",
   "execution_count": 128,
   "id": "f98d7173-2b9b-4818-b37b-06ba6d3511f8",
   "metadata": {},
   "outputs": [
    {
     "name": "stdout",
     "output_type": "stream",
     "text": [
      "<class 'int'>\n",
      "<class 'float'>\n",
      "<class 'complex'>\n"
     ]
    }
   ],
   "source": [
    "x = 1 \n",
    "y = 3.7\n",
    "z = 1j \n",
    "print(type(x))\n",
    "print(type(y))\n",
    "print(type(z))"
   ]
  },
  {
   "cell_type": "code",
   "execution_count": 134,
   "id": "fa313ad8-1b9b-487d-a11f-29876ceb81c6",
   "metadata": {},
   "outputs": [
    {
     "name": "stdout",
     "output_type": "stream",
     "text": [
      "<class 'int'>\n",
      "<class 'int'>\n",
      "<class 'int'>\n"
     ]
    }
   ],
   "source": [
    "#ints\n",
    "x = 1\n",
    "y = 394929479040532\n",
    "z = -299347924\n",
    "\n",
    "print(type(x))\n",
    "print(type(y))\n",
    "print(type(z))"
   ]
  },
  {
   "cell_type": "code",
   "execution_count": 136,
   "id": "8d4e87bc-b499-405a-ae06-78936b6e443d",
   "metadata": {},
   "outputs": [
    {
     "name": "stdout",
     "output_type": "stream",
     "text": [
      "<class 'float'>\n",
      "<class 'float'>\n",
      "<class 'float'>\n"
     ]
    }
   ],
   "source": [
    "#floats\n",
    "x = 1.80\n",
    "y = 2.0\n",
    "z = -46.53\n",
    "\n",
    "print(type(x))\n",
    "print(type(y))\n",
    "print(type(z))"
   ]
  },
  {
   "cell_type": "code",
   "execution_count": 138,
   "id": "c8e0ae64-ac74-4bd3-936b-b2095c76d65a",
   "metadata": {},
   "outputs": [
    {
     "name": "stdout",
     "output_type": "stream",
     "text": [
      "<class 'float'>\n",
      "<class 'float'>\n",
      "<class 'float'>\n"
     ]
    }
   ],
   "source": [
    "x = 35e3\n",
    "y = 12E4\n",
    "z = -87.7e100\n",
    "\n",
    "print(type(x))\n",
    "print(type(y))\n",
    "print(type(z))"
   ]
  },
  {
   "cell_type": "code",
   "execution_count": 140,
   "id": "ef94f64d-0388-4050-bf07-f0522ff3f31e",
   "metadata": {},
   "outputs": [
    {
     "name": "stdout",
     "output_type": "stream",
     "text": [
      "<class 'complex'>\n",
      "<class 'complex'>\n",
      "<class 'complex'>\n"
     ]
    }
   ],
   "source": [
    "#complex\n",
    "x = 3+5j\n",
    "y = 5j\n",
    "z = -5j\n",
    "\n",
    "print(type(x))\n",
    "print(type(y))\n",
    "print(type(z))"
   ]
  },
  {
   "cell_type": "code",
   "execution_count": 142,
   "id": "bb835815-81ec-4327-8af6-b69b64558934",
   "metadata": {},
   "outputs": [
    {
     "name": "stdout",
     "output_type": "stream",
     "text": [
      "8.0\n",
      "1\n",
      "(8+0j)\n",
      "<class 'float'>\n",
      "<class 'int'>\n",
      "<class 'complex'>\n"
     ]
    }
   ],
   "source": [
    "x = 8    # int\n",
    "y = 1.4  # float\n",
    "z = 3j   # complex\n",
    "\n",
    "#convert from int to float:\n",
    "a = float(x)\n",
    "\n",
    "#convert from float to int:\n",
    "b = int(y)\n",
    "\n",
    "#convert from int to complex:\n",
    "c = complex(x)\n",
    "\n",
    "print(a)\n",
    "print(b)\n",
    "print(c)\n",
    "\n",
    "print(type(a))\n",
    "print(type(b))\n",
    "print(type(c))"
   ]
  },
  {
   "cell_type": "code",
   "execution_count": 144,
   "id": "703dbbee-aada-4cb7-a410-69d9f69f39db",
   "metadata": {},
   "outputs": [
    {
     "name": "stdout",
     "output_type": "stream",
     "text": [
      "2\n"
     ]
    }
   ],
   "source": [
    "import random\n",
    "\n",
    "print(random.randrange(1, 10))"
   ]
  },
  {
   "cell_type": "markdown",
   "id": "15ad6b98-263e-4d64-be4e-55cf59e24d0c",
   "metadata": {},
   "source": [
    "Python Casting"
   ]
  },
  {
   "cell_type": "code",
   "execution_count": 149,
   "id": "d394e39a-eb8e-4cc5-b777-d754f9e3cc58",
   "metadata": {},
   "outputs": [],
   "source": [
    "x = int(1)   # x will be 1\n",
    "y = int(5.7) # y will be 5\n",
    "z = int(\"9\") # z will be 9"
   ]
  },
  {
   "cell_type": "code",
   "execution_count": 151,
   "id": "e5eec8ee-cb7f-48f9-be68-790cffa18250",
   "metadata": {},
   "outputs": [],
   "source": [
    "x = float(1)     # x will be 1.0\n",
    "y = float(5.7)   # y will be 5.7\n",
    "z = float(\"9\")   # z will be 9.0\n",
    "w = float(\"6.3\") # w will be 6.3"
   ]
  },
  {
   "cell_type": "code",
   "execution_count": 153,
   "id": "c82a8acf-f617-488b-a1b8-79bfb25e8ab1",
   "metadata": {},
   "outputs": [],
   "source": [
    "x = str(\"s1\") # x will be 's1'\n",
    "y = str(2)    # y will be '2'\n",
    "z = str(3.0)  # z will be '3.0'"
   ]
  },
  {
   "cell_type": "markdown",
   "id": "8fc55468-71ca-4b44-85fe-151952e79c78",
   "metadata": {},
   "source": [
    "Python Strings"
   ]
  },
  {
   "cell_type": "code",
   "execution_count": 156,
   "id": "f7dae24b-c691-4d43-b0b4-ebe805e311d8",
   "metadata": {},
   "outputs": [
    {
     "name": "stdout",
     "output_type": "stream",
     "text": [
      "Hello\n",
      "Hello\n"
     ]
    }
   ],
   "source": [
    "print(\"Hello\")\n",
    "print('Hello')\n"
   ]
  },
  {
   "cell_type": "code",
   "execution_count": 158,
   "id": "80781cd5-47e3-4960-b10c-0db1521908b0",
   "metadata": {},
   "outputs": [
    {
     "name": "stdout",
     "output_type": "stream",
     "text": [
      "It's alright\n",
      "He is called 'Johnny'\n",
      "He is called \"Johnny\"\n"
     ]
    }
   ],
   "source": [
    "print(\"It's alright\")\n",
    "print(\"He is called 'Johnny'\")\n",
    "print('He is called \"Johnny\"')"
   ]
  },
  {
   "cell_type": "code",
   "execution_count": 162,
   "id": "5efee9c6-e9dd-4c69-a0d0-487c61098630",
   "metadata": {},
   "outputs": [
    {
     "name": "stdout",
     "output_type": "stream",
     "text": [
      "Привет\n"
     ]
    }
   ],
   "source": [
    "a = \"Привет\"\n",
    "print(a)"
   ]
  },
  {
   "cell_type": "code",
   "execution_count": 164,
   "id": "8d3f0301-775b-4f8d-ac84-2f61a085f6ba",
   "metadata": {},
   "outputs": [
    {
     "name": "stdout",
     "output_type": "stream",
     "text": [
      "Something something something,\n",
      "then we have something something,\n",
      "then something again and\n",
      "again.\n"
     ]
    }
   ],
   "source": [
    "a = \"\"\"Something something something,\n",
    "then we have something something,\n",
    "then something again and\n",
    "again.\"\"\"\n",
    "print(a)"
   ]
  },
  {
   "cell_type": "code",
   "execution_count": 166,
   "id": "b875858b-20dd-4e1c-b90d-68079dd145b1",
   "metadata": {},
   "outputs": [
    {
     "name": "stdout",
     "output_type": "stream",
     "text": [
      "Something something something,\n",
      "then we have something something,\n",
      "then something again and\n",
      "again.\n"
     ]
    }
   ],
   "source": [
    "a = '''Something something something,\n",
    "then we have something something,\n",
    "then something again and\n",
    "again.'''\n",
    "print(a)"
   ]
  },
  {
   "cell_type": "code",
   "execution_count": 168,
   "id": "967eff57-276c-4d86-9ecb-ec054e94b014",
   "metadata": {},
   "outputs": [
    {
     "name": "stdout",
     "output_type": "stream",
     "text": [
      "e\n"
     ]
    }
   ],
   "source": [
    "a = \"Hello World!\"\n",
    "print(a[1])"
   ]
  },
  {
   "cell_type": "code",
   "execution_count": 170,
   "id": "32222b2e-fd12-42b3-ab65-e0f063ba29ca",
   "metadata": {},
   "outputs": [
    {
     "name": "stdout",
     "output_type": "stream",
     "text": [
      "я\n",
      "б\n",
      "л\n",
      "о\n",
      "к\n",
      "о\n"
     ]
    }
   ],
   "source": [
    "for x in \"яблоко\":\n",
    "  print(x)"
   ]
  },
  {
   "cell_type": "code",
   "execution_count": 172,
   "id": "e9e2ea11-3a7e-427e-b4b8-49e7e834ec6c",
   "metadata": {},
   "outputs": [
    {
     "name": "stdout",
     "output_type": "stream",
     "text": [
      "12\n"
     ]
    }
   ],
   "source": [
    "a = \"Hello World!\"\n",
    "print(len(a))"
   ]
  },
  {
   "cell_type": "code",
   "execution_count": 174,
   "id": "600804af-0dda-44ba-820e-4dd3d172d757",
   "metadata": {},
   "outputs": [
    {
     "name": "stdout",
     "output_type": "stream",
     "text": [
      "True\n"
     ]
    }
   ],
   "source": [
    "txt = \"The best things in life are free!\"\n",
    "print(\"free\" in txt)"
   ]
  },
  {
   "cell_type": "code",
   "execution_count": 176,
   "id": "733a0e89-8294-4a27-bab2-01cbb1b1c281",
   "metadata": {},
   "outputs": [
    {
     "name": "stdout",
     "output_type": "stream",
     "text": [
      "Yes, 'free' is present.\n"
     ]
    }
   ],
   "source": [
    "txt = \"The best things in life are free!\"\n",
    "if \"free\" in txt:\n",
    "  print(\"Yes, 'free' is present.\")"
   ]
  },
  {
   "cell_type": "code",
   "execution_count": 178,
   "id": "7142e10a-f2a9-4f20-8d3d-75a6b87c746b",
   "metadata": {},
   "outputs": [
    {
     "name": "stdout",
     "output_type": "stream",
     "text": [
      "True\n"
     ]
    }
   ],
   "source": [
    "txt = \"The best things in life are free!\"\n",
    "print(\"expensive\" not in txt)"
   ]
  },
  {
   "cell_type": "code",
   "execution_count": 180,
   "id": "2038ee94-7dd6-4063-a785-cf2091c00c83",
   "metadata": {},
   "outputs": [
    {
     "name": "stdout",
     "output_type": "stream",
     "text": [
      "No, 'expensive' is NOT present.\n"
     ]
    }
   ],
   "source": [
    "txt = \"The best things in life are free!\"\n",
    "if \"expensive\" not in txt:\n",
    "  print(\"No, 'expensive' is NOT present.\")"
   ]
  },
  {
   "cell_type": "markdown",
   "id": "89c78200-42a6-42f5-8a8e-8920cedd4023",
   "metadata": {},
   "source": [
    "Slicing Strings"
   ]
  },
  {
   "cell_type": "code",
   "execution_count": 183,
   "id": "1e8c677a-e557-409e-8eed-719164c494bc",
   "metadata": {},
   "outputs": [
    {
     "name": "stdout",
     "output_type": "stream",
     "text": [
      "llo\n"
     ]
    }
   ],
   "source": [
    "b = \"Hello World!\"\n",
    "print(b[2:5])"
   ]
  },
  {
   "cell_type": "code",
   "execution_count": 185,
   "id": "4855d547-5be0-45ad-9d22-c2fe6c710c03",
   "metadata": {},
   "outputs": [
    {
     "name": "stdout",
     "output_type": "stream",
     "text": [
      "Hello\n"
     ]
    }
   ],
   "source": [
    "b = \"Hello, World!\"\n",
    "print(b[:5])"
   ]
  },
  {
   "cell_type": "code",
   "execution_count": 187,
   "id": "1e4493c0-b38e-4c06-b607-64ae4bf962f0",
   "metadata": {},
   "outputs": [
    {
     "name": "stdout",
     "output_type": "stream",
     "text": [
      "llo World!\n"
     ]
    }
   ],
   "source": [
    "b = \"Hello World!\"\n",
    "print(b[2:])"
   ]
  },
  {
   "cell_type": "code",
   "execution_count": 189,
   "id": "47717b7f-17ee-4e2e-96d0-0af7eec611fd",
   "metadata": {},
   "outputs": [
    {
     "name": "stdout",
     "output_type": "stream",
     "text": [
      "orl\n"
     ]
    }
   ],
   "source": [
    "b = \"Hello, World!\"\n",
    "print(b[-5:-2])"
   ]
  },
  {
   "cell_type": "markdown",
   "id": "05efcfe2-ee90-4779-b71f-26184cff62af",
   "metadata": {},
   "source": [
    "Modify Strings\n"
   ]
  },
  {
   "cell_type": "code",
   "execution_count": 192,
   "id": "ab273d0e-0477-40a6-8a11-2df2cbe6efc9",
   "metadata": {},
   "outputs": [
    {
     "name": "stdout",
     "output_type": "stream",
     "text": [
      "HELLO WORLD!\n"
     ]
    }
   ],
   "source": [
    "a = \"Hello World!\"\n",
    "print(a.upper())"
   ]
  },
  {
   "cell_type": "code",
   "execution_count": 194,
   "id": "6b1517b8-c3a6-4ffc-a177-9548cc24b513",
   "metadata": {},
   "outputs": [
    {
     "name": "stdout",
     "output_type": "stream",
     "text": [
      "hello world!\n"
     ]
    }
   ],
   "source": [
    "a = \"Hello World!\"\n",
    "print(a.lower())"
   ]
  },
  {
   "cell_type": "code",
   "execution_count": 198,
   "id": "66b21a5a-31e3-4031-9062-86a968ecce30",
   "metadata": {},
   "outputs": [
    {
     "name": "stdout",
     "output_type": "stream",
     "text": [
      "Hello World!\n"
     ]
    }
   ],
   "source": [
    "a = \"    Hello World!    \"\n",
    "print(a.strip())"
   ]
  },
  {
   "cell_type": "code",
   "execution_count": 200,
   "id": "f5cc266c-f071-49e0-9cba-13b57be1e202",
   "metadata": {},
   "outputs": [
    {
     "name": "stdout",
     "output_type": "stream",
     "text": [
      "Jello, World!\n"
     ]
    }
   ],
   "source": [
    "a = \"Hello, World!\"\n",
    "print(a.replace(\"H\", \"J\"))"
   ]
  },
  {
   "cell_type": "code",
   "execution_count": 202,
   "id": "9366ee0e-9c7d-4f8a-878c-e301e28b8cfc",
   "metadata": {},
   "outputs": [
    {
     "name": "stdout",
     "output_type": "stream",
     "text": [
      "['Hello', ' World!']\n"
     ]
    }
   ],
   "source": [
    "a = \"Hello, World!\"\n",
    "print(a.split(\",\"))"
   ]
  },
  {
   "cell_type": "markdown",
   "id": "d2b3db71-2df2-488f-b7d8-fd2881b14799",
   "metadata": {},
   "source": [
    "Concatenate Strings"
   ]
  },
  {
   "cell_type": "code",
   "execution_count": 205,
   "id": "4196cbc0-b74c-407c-87a1-5f9a807973be",
   "metadata": {},
   "outputs": [
    {
     "name": "stdout",
     "output_type": "stream",
     "text": [
      "HelloWorld\n"
     ]
    }
   ],
   "source": [
    "a = \"Hello\"\n",
    "b = \"World\"\n",
    "c = a + b\n",
    "print(c)"
   ]
  },
  {
   "cell_type": "code",
   "execution_count": 207,
   "id": "a59a2b52-14c9-4224-a02a-eaa890170a0b",
   "metadata": {},
   "outputs": [
    {
     "name": "stdout",
     "output_type": "stream",
     "text": [
      "Hello World\n"
     ]
    }
   ],
   "source": [
    "a = \"Hello\"\n",
    "b = \"World\"\n",
    "c = a + \" \" + b\n",
    "print(c)"
   ]
  },
  {
   "cell_type": "markdown",
   "id": "53ec7412-bdc2-4333-9c53-8ee6a59abe9f",
   "metadata": {},
   "source": [
    "Format Strings"
   ]
  },
  {
   "cell_type": "code",
   "execution_count": 210,
   "id": "e3cd2928-d9a2-4c9f-b929-bc29e2d08b04",
   "metadata": {},
   "outputs": [
    {
     "name": "stdout",
     "output_type": "stream",
     "text": [
      "My name is Lera, I am 19\n"
     ]
    }
   ],
   "source": [
    "age = 19\n",
    "txt = f\"My name is Lera, I am {age}\"\n",
    "print(txt)"
   ]
  },
  {
   "cell_type": "code",
   "execution_count": 212,
   "id": "dca3b6aa-8c4d-4d57-b579-6af8e9df76f4",
   "metadata": {},
   "outputs": [
    {
     "name": "stdout",
     "output_type": "stream",
     "text": [
      "The price is 943 tenge\n"
     ]
    }
   ],
   "source": [
    "price = 943\n",
    "txt = f\"The price is {price} tenge\"\n",
    "print(txt)"
   ]
  },
  {
   "cell_type": "code",
   "execution_count": 214,
   "id": "4bedb0e5-4b4d-4f13-8450-e631b656bf4c",
   "metadata": {},
   "outputs": [
    {
     "name": "stdout",
     "output_type": "stream",
     "text": [
      "The price is 1180 dollars\n"
     ]
    }
   ],
   "source": [
    "txt = f\"The price is {20 * 59} dollars\"\n",
    "print(txt)"
   ]
  },
  {
   "cell_type": "markdown",
   "id": "92bb122d-6374-4215-a0c3-1f12dcf04a5f",
   "metadata": {},
   "source": [
    "Escape Characters"
   ]
  },
  {
   "cell_type": "code",
   "execution_count": 217,
   "id": "e7b6cc81-bef7-4bd2-80f6-c6883debb906",
   "metadata": {},
   "outputs": [],
   "source": [
    "txt = \"We are the so-called \\\"Vikings\\\" from the north.\""
   ]
  }
 ],
 "metadata": {
  "kernelspec": {
   "display_name": "Python [conda env:base] *",
   "language": "python",
   "name": "conda-base-py"
  },
  "language_info": {
   "codemirror_mode": {
    "name": "ipython",
    "version": 3
   },
   "file_extension": ".py",
   "mimetype": "text/x-python",
   "name": "python",
   "nbconvert_exporter": "python",
   "pygments_lexer": "ipython3",
   "version": "3.12.7"
  }
 },
 "nbformat": 4,
 "nbformat_minor": 5
}
